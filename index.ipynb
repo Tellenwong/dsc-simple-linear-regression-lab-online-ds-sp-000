{
 "cells": [
  {
   "cell_type": "raw",
   "metadata": {
    "toc": true
   },
   "source": [
    "### <h1>Table of Contents<span class=\"tocSkip\"></span></h1>\n",
    "<div class=\"toc\"><ul class=\"toc-item\"><li><span><a href=\"#Simple-Linear-Regression---Lab\" data-toc-modified-id=\"Simple-Linear-Regression---Lab-1\"><span class=\"toc-item-num\">1&nbsp;&nbsp;</span>Simple Linear Regression - Lab</a></span><ul class=\"toc-item\"><li><span><a href=\"#Introduction\" data-toc-modified-id=\"Introduction-1.1\"><span class=\"toc-item-num\">1.1&nbsp;&nbsp;</span>Introduction</a></span></li><li><span><a href=\"#Objectives\" data-toc-modified-id=\"Objectives-1.2\"><span class=\"toc-item-num\">1.2&nbsp;&nbsp;</span>Objectives</a></span></li><li><span><a href=\"#Let's-get-started\" data-toc-modified-id=\"Let's-get-started-1.3\"><span class=\"toc-item-num\">1.3&nbsp;&nbsp;</span>Let's get started</a></span></li><li><span><a href=\"#Create-a-scatter-plot-of-X-and-Y-and-comment-on-the-output\" data-toc-modified-id=\"Create-a-scatter-plot-of-X-and-Y-and-comment-on-the-output-1.4\"><span class=\"toc-item-num\">1.4&nbsp;&nbsp;</span>Create a scatter plot of X and Y and comment on the output</a></span></li><li><span><a href=\"#Write-a-function-calc_slope()\" data-toc-modified-id=\"Write-a-function-calc_slope()-1.5\"><span class=\"toc-item-num\">1.5&nbsp;&nbsp;</span>Write a function <code>calc_slope()</code></a></span></li><li><span><a href=\"#Write-a-function-best_fit()\" data-toc-modified-id=\"Write-a-function-best_fit()-1.6\"><span class=\"toc-item-num\">1.6&nbsp;&nbsp;</span>Write a function best_fit()</a></span></li><li><span><a href=\"#Write-a-function-reg_line()\" data-toc-modified-id=\"Write-a-function-reg_line()-1.7\"><span class=\"toc-item-num\">1.7&nbsp;&nbsp;</span>Write a function reg_line()</a></span></li><li><span><a href=\"#Plot-the-(x,y)-data-points-and-draw-the-calculated-regression-line-for-visual-inspection\" data-toc-modified-id=\"Plot-the-(x,y)-data-points-and-draw-the-calculated-regression-line-for-visual-inspection-1.8\"><span class=\"toc-item-num\">1.8&nbsp;&nbsp;</span>Plot the (x,y) data points and draw the calculated regression line for visual inspection</a></span></li><li><span><a href=\"#Describe-your-Model-Mathematically-and-in-Words\" data-toc-modified-id=\"Describe-your-Model-Mathematically-and-in-Words-1.9\"><span class=\"toc-item-num\">1.9&nbsp;&nbsp;</span>Describe your Model Mathematically and in Words</a></span></li><li><span><a href=\"#Predicting-new-data\" data-toc-modified-id=\"Predicting-new-data-1.10\"><span class=\"toc-item-num\">1.10&nbsp;&nbsp;</span>Predicting new data</a></span></li><li><span><a href=\"#Plot-the-prediction-with-the-rest-of-the-data\" data-toc-modified-id=\"Plot-the-prediction-with-the-rest-of-the-data-1.11\"><span class=\"toc-item-num\">1.11&nbsp;&nbsp;</span>Plot the prediction with the rest of the data</a></span></li><li><span><a href=\"#Summary\" data-toc-modified-id=\"Summary-1.12\"><span class=\"toc-item-num\">1.12&nbsp;&nbsp;</span>Summary</a></span></li></ul></li></ul></div>"
   ]
  },
  {
   "cell_type": "markdown",
   "metadata": {},
   "source": [
    "# Simple Linear Regression - Lab\n",
    "\n",
    "## Introduction\n",
    "\n",
    "In this lab, you'll get some hand-on practice developing a simple linear regression model. You'll also use your model to make a prediction about new data! \n",
    "\n",
    "## Objectives\n",
    "\n",
    "You will be able to:\n",
    "\n",
    "* Perform a linear regression using self-constructed functions\n",
    "* Interpret the parameters of a simple linear regression model in relation to what they signify for specific data\n",
    "\n",
    "## Let's get started\n",
    "\n",
    "The best-fit line's slope $\\hat m$ can be calculated as:\n",
    "\n",
    "$$\\hat m = \\rho \\frac{S_Y}{S_X}$$\n",
    "\n",
    "With $\\rho$ being the correlation coefficient and ${S_Y}$ and ${S_X}$ being the standard deviation of $x$ and $y$, respectively. It can be shown that this is also equal to:\n",
    "\n",
    "$$\\hat m = \\dfrac{\\overline{x}*\\overline{y}-\\overline{xy}}{(\\overline{x})^2-\\overline{x^2}}$$\n",
    "\n",
    "You'll use the latter formula in this lab. First, break down the formula into its parts. To do this, you'll import the required libraries and define some data points to work with. Next, you'll use some pre-created toy data in NumPy arrays. Let's do this for you to give you a head start. "
   ]
  },
  {
   "cell_type": "code",
   "execution_count": 1,
   "metadata": {
    "ExecuteTime": {
     "end_time": "2019-11-23T08:37:07.604400Z",
     "start_time": "2019-11-23T08:37:07.107939Z"
    },
    "collapsed": true
   },
   "outputs": [],
   "source": [
    "# import necessary libraries\n",
    "\n",
    "import numpy as np\n",
    "import matplotlib.pyplot as plt\n",
    "from matplotlib import style\n",
    "style.use('ggplot')\n",
    "%matplotlib inline\n",
    "\n",
    "# Initialize arrays X and Y with given values\n",
    "# X = Independent Variable\n",
    "X = np.array([1,2,3,4,5,6,8,8,9,10], dtype=np.float64)\n",
    "# Y = Dependent Variable\n",
    "Y = np.array([7,7,8,9,9,10,10,11,11,12], dtype=np.float64)"
   ]
  },
  {
   "cell_type": "markdown",
   "metadata": {},
   "source": [
    "## Create a scatter plot of X and Y and comment on the output"
   ]
  },
  {
   "cell_type": "code",
   "execution_count": 5,
   "metadata": {
    "ExecuteTime": {
     "end_time": "2019-11-23T08:38:45.261895Z",
     "start_time": "2019-11-23T08:38:44.933610Z"
    }
   },
   "outputs": [
    {
     "data": {
      "text/plain": [
       "Text(0.5, 1.0, 'Relationship Between X and Y')"
      ]
     },
     "execution_count": 5,
     "metadata": {},
     "output_type": "execute_result"
    },
    {
     "data": {
      "image/png": "[encoded data removed]",
      "text/plain": [
       "<Figure size 432x288 with 1 Axes>"
      ]
     },
     "metadata": {
      "needs_background": "light"
     },
     "output_type": "display_data"
    }
   ],
   "source": [
    "# Scatter plot\n",
    "plt.scatter(X,Y)\n",
    "plt.xlabel('X')\n",
    "plt.ylabel('Y')\n",
    "plt.title('Relationship Between X and Y')"
   ]
  },
  {
   "cell_type": "code",
   "execution_count": null,
   "metadata": {
    "collapsed": true
   },
   "outputs": [],
   "source": [
    "# Your observations about the relationship between X and Y \n",
    "#There seems to be a positive linear relationship between X and Y--as X increases in value, Y increases with it."
   ]
  },
  {
   "cell_type": "markdown",
   "metadata": {},
   "source": [
    "## Write a function `calc_slope()`\n",
    "\n",
    "Write a function `calc_slope()` that takes in X and Y and calculates the slope using the formula shown above. "
   ]
  },
  {
   "cell_type": "code",
   "execution_count": 12,
   "metadata": {
    "ExecuteTime": {
     "end_time": "2019-11-23T08:47:31.857338Z",
     "start_time": "2019-11-23T08:47:31.843906Z"
    }
   },
   "outputs": [
    {
     "data": {
      "text/plain": [
       "0.54"
      ]
     },
     "execution_count": 12,
     "metadata": {},
     "output_type": "execute_result"
    }
   ],
   "source": [
    "# Write the function to calculate slope as: \n",
    "# (mean(x) * mean(y) – mean(x*y)) / ( mean (x)^2 – mean( x^2))\n",
    "def calc_slope(xs,ys):\n",
    "    numerator = ((np.mean(xs)*np.mean(ys)) - np.mean(xs*ys))\n",
    "    denominator = ((np.mean(xs)**2) - np.mean(xs*xs))\n",
    "    answer = numerator/denominator\n",
    "    \n",
    "    return round(answer, 2)\n",
    "\n",
    "calc_slope(X,Y)\n",
    "\n",
    "# 0.5393518518518512"
   ]
  },
  {
   "cell_type": "markdown",
   "metadata": {},
   "source": [
    "Great, so we have our slope. Next we calculate the intercept. \n",
    "\n",
    "As a reminder, the calculation for the best-fit line's y-intercept is:\n",
    "\n",
    "$$\\hat c = \\overline y - \\hat m \\overline x $$\n",
    "\n",
    "\n",
    "## Write a function best_fit()\n",
    "\n",
    "Write a function `best_fit()` that takes in X and Y, calculates the slope and intercept using the formula. The function should return slope and intercept values. "
   ]
  },
  {
   "cell_type": "code",
   "execution_count": 21,
   "metadata": {
    "ExecuteTime": {
     "end_time": "2019-11-23T17:08:30.407853Z",
     "start_time": "2019-11-23T17:08:30.396783Z"
    }
   },
   "outputs": [
    {
     "data": {
      "text/plain": [
       "(0.54, 6.376)"
      ]
     },
     "execution_count": 21,
     "metadata": {},
     "output_type": "execute_result"
    }
   ],
   "source": [
    "# use the slope function with intercept formula to return calculate slope and intercept from data points\n",
    "\n",
    "def best_fit(xs,ys):\n",
    "    c = np.mean(ys) - (calc_slope(xs,ys)*np.mean(xs))\n",
    "    #m = ((c - np.mean(ys)) / np.mean(xs)) * -1\n",
    "    m = calc_slope(xs,ys)\n",
    "    return m, c\n",
    "\n",
    "\n",
    "# Uncomment below to test your function\n",
    "\n",
    "m, c = best_fit(X,Y)\n",
    "m, c\n",
    "\n",
    "# (0.5393518518518512, 6.379629629629633)"
   ]
  },
  {
   "cell_type": "markdown",
   "metadata": {},
   "source": [
    "We now have a working model with `m` and `c` as model parameters. We can create a line for the data points using the calculated slope and intercept:\n",
    "\n",
    "* Recall that $y = mx + c$. We can now use slope and intercept values along with X data points (features) to calculate the Y data points (labels) of the regression line. \n",
    "\n",
    "## Write a function reg_line()\n",
    "\n",
    "Write a function `reg_line()` that takes in slope, intercept and X vector and calculates the regression line using $y= mx + c$ for each point in X"
   ]
  },
  {
   "cell_type": "code",
   "execution_count": 23,
   "metadata": {
    "ExecuteTime": {
     "end_time": "2019-11-23T17:17:29.612015Z",
     "start_time": "2019-11-23T17:17:29.602157Z"
    }
   },
   "outputs": [
    {
     "data": {
      "text/plain": [
       "[6.916,\n",
       " 7.456,\n",
       " 7.996,\n",
       " 8.536000000000001,\n",
       " 9.076,\n",
       " 9.616,\n",
       " 10.696000000000002,\n",
       " 10.696000000000002,\n",
       " 11.236,\n",
       " 11.776]"
      ]
     },
     "metadata": {},
     "output_type": "display_data"
    }
   ],
   "source": [
    "def reg_line (m, c, xs):\n",
    "    return [(m*x)+c for x in xs] #don't overthink your function! keep it simple with a lambda function\n",
    "\n",
    "# Uncomment below\n",
    "regression_line = reg_line(m,c,X)\n",
    "display(regression_line) #these are our y points"
   ]
  },
  {
   "cell_type": "markdown",
   "metadata": {},
   "source": [
    "## Plot the (x,y) data points and draw the calculated regression line for visual inspection"
   ]
  },
  {
   "cell_type": "code",
   "execution_count": 31,
   "metadata": {
    "ExecuteTime": {
     "end_time": "2019-11-23T17:20:51.572046Z",
     "start_time": "2019-11-23T17:20:51.191683Z"
    }
   },
   "outputs": [
    {
     "data": {
      "text/plain": [
       "<matplotlib.legend.Legend at 0x113c43fd0>"
      ]
     },
     "execution_count": 31,
     "metadata": {},
     "output_type": "execute_result"
    },
    {
     "data": {
      "image/png": "[encoded data removed]",
      "text/plain": [
       "<Figure size 432x288 with 1 Axes>"
      ]
     },
     "metadata": {
      "needs_background": "light"
     },
     "output_type": "display_data"
    }
   ],
   "source": [
    "# Plot data and regression line\n",
    "plt.scatter(X, Y, label = 'Data Points')\n",
    "plt.plot(X,regression_line, label = 'Calculated Regression Line')\n",
    "plt.legend() #remember to add this or your labels won't be added to the plot!"
   ]
  },
  {
   "cell_type": "markdown",
   "metadata": {},
   "source": [
    "So there we have it, our least squares regression line. This is the best fit line and does describe the data pretty well (still not perfect though). \n",
    "\n",
    "## Describe your Model Mathematically and in Words"
   ]
  },
  {
   "cell_type": "code",
   "execution_count": null,
   "metadata": {
    "collapsed": true
   },
   "outputs": [],
   "source": [
    "# y = .54x + 6.38\n",
    "\n",
    "# The line crosses the y-axis at 6.38. This is the y-intercept.\n",
    "# The slope of the line is 0.53. A slope of 0 would a perfectly horizontal line, and a slope of 1 would be a perfectly vertical one\n",
    "# Our slope creates an angle roughly around 45 degree between the x and y axes. "
   ]
  },
  {
   "cell_type": "markdown",
   "metadata": {},
   "source": [
    "## Predicting new data\n",
    "\n",
    "So, how might you go about actually making a prediction based on this model you just made?\n",
    "\n",
    "Now that we have a working model with m and b as model parameters. We can fill in a value of x with these parameters to identify a corresponding value of $\\hat y$ according to our model. Recall the formula:\n",
    "\n",
    "$$\\hat y = \\hat mx + \\hat c$$\n",
    "\n",
    "Let's try to find a y prediction for a new value of $x = 7$, and plot the new prediction with existing data "
   ]
  },
  {
   "cell_type": "code",
   "execution_count": 33,
   "metadata": {
    "ExecuteTime": {
     "end_time": "2019-11-23T17:35:09.591911Z",
     "start_time": "2019-11-23T17:35:09.583669Z"
    }
   },
   "outputs": [
    {
     "data": {
      "text/plain": [
       "10.156"
      ]
     },
     "execution_count": 33,
     "metadata": {},
     "output_type": "execute_result"
    }
   ],
   "source": [
    "x_new = 7\n",
    "y_predicted = (m*x_new)+c\n",
    "y_predicted\n",
    "\n",
    "# 10.155092592592592"
   ]
  },
  {
   "cell_type": "markdown",
   "metadata": {},
   "source": [
    "## Plot the prediction with the rest of the data"
   ]
  },
  {
   "cell_type": "code",
   "execution_count": 34,
   "metadata": {
    "ExecuteTime": {
     "end_time": "2019-11-23T17:35:27.934067Z",
     "start_time": "2019-11-23T17:35:27.436847Z"
    }
   },
   "outputs": [
    {
     "data": {
      "text/plain": [
       "<matplotlib.legend.Legend at 0x1143ff5f8>"
      ]
     },
     "execution_count": 34,
     "metadata": {},
     "output_type": "execute_result"
    },
    {
     "data": {
      "image/png": "[encoded data removed]",
      "text/plain": [
       "<Figure size 432x288 with 1 Axes>"
      ]
     },
     "metadata": {
      "needs_background": "light"
     },
     "output_type": "display_data"
    }
   ],
   "source": [
    "# Plot as above and show the predicted value\n",
    "plt.scatter(X,Y,color='#000F72',label='data')\n",
    "plt.plot(X, regression_line, color='#880000', label='regression line')\n",
    "plt.scatter(x_new,y_predicted,color='r',label='Prediction: '+ str(np.round(y_predicted,1)))\n",
    "plt.legend(loc=4)"
   ]
  },
  {
   "cell_type": "markdown",
   "metadata": {},
   "source": [
    "You now know how to create your own models, which is great! Next, you'll find out how to determine the accuracy of your model!\n",
    "\n",
    "## Summary\n",
    "\n",
    "In this lesson, you learned how to perform linear regression for data that are linearly related. You first calculated the slope and intercept parameters of the regression line that best fit the data. You then used the regression line parameters to predict the value ($\\hat y$-value) of a previously unseen feature ($x$-value). "
   ]
  }
 ],
 "metadata": {
  "kernelspec": {
   "display_name": "learn_env",
   "language": "python",
   "name": "learn_env"
  },
  "language_info": {
   "codemirror_mode": {
    "name": "ipython",
    "version": 3
   },
   "file_extension": ".py",
   "mimetype": "text/x-python",
   "name": "python",
   "nbconvert_exporter": "python",
   "pygments_lexer": "ipython3",
   "version": "3.6.6"
  },
  "toc": {
   "base_numbering": 1,
   "nav_menu": {},
   "number_sections": true,
   "sideBar": true,
   "skip_h1_title": false,
   "title_cell": "Table of Contents",
   "title_sidebar": "Contents",
   "toc_cell": true,
   "toc_position": {},
   "toc_section_display": true,
   "toc_window_display": true
  },
  "varInspector": {
   "cols": {
    "lenName": 16,
    "lenType": 16,
    "lenVar": 40
   },
   "kernels_config": {
    "python": {
     "delete_cmd_postfix": "",
     "delete_cmd_prefix": "del ",
     "library": "var_list.py",
     "varRefreshCmd": "print(var_dic_list())"
    },
    "r": {
     "delete_cmd_postfix": ") ",
     "delete_cmd_prefix": "rm(",
     "library": "var_list.r",
     "varRefreshCmd": "cat(var_dic_list()) "
    }
   },
   "oldHeight": 122,
   "position": {
    "height": "40px",
    "left": "1170px",
    "right": "20px",
    "top": "120px",
    "width": "250px"
   },
   "types_to_exclude": [
    "module",
    "function",
    "builtin_function_or_method",
    "instance",
    "_Feature"
   ],
   "varInspector_section_display": "none",
   "window_display": true
  }
 },
 "nbformat": 4,
 "nbformat_minor": 2
}
